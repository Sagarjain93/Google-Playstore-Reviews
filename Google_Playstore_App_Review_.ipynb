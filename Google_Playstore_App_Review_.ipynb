{
  "nbformat": 4,
  "nbformat_minor": 0,
  "metadata": {
    "colab": {
      "private_outputs": true,
      "provenance": [],
      "collapsed_sections": [
        "vncDsAP0Gaoa",
        "FJNUwmbgGyua",
        "w6K7xa23Elo4",
        "yQaldy8SH6Dl",
        "PH-0ReGfmX4f",
        "mDgbUHAGgjLW",
        "JvV_dXSbTMtQ",
        "PBTbrJXOngz2",
        "JNHfoijZUY3g",
        "ydiXWa4EUoQk",
        "Yjqejby5VD6J",
        "MSa1f5Uengrz",
        "GF8Ens_Soomf",
        "0wOQAZs5pc--",
        "K5QZ13OEpz2H",
        "lQ7QKXXCp7Bj",
        "448CDAPjqfQr",
        "KSlN3yHqYklG",
        "t6dVpIINYklI",
        "ijmpgYnKYklI",
        "-JiQyfWJYklI",
        "EM7whBJCYoAo",
        "fge-S5ZAYoAp",
        "85gYPyotYoAp",
        "RoGjAbkUYoAp",
        "4Of9eVA-YrdM",
        "iky9q4vBYrdO",
        "F6T5p64dYrdO",
        "y-Ehk30pYrdP",
        "bamQiAODYuh1",
        "QHF8YVU7Yuh3",
        "GwzvFGzlYuh3",
        "qYpmQ266Yuh3",
        "OH-pJp9IphqM",
        "bbFf2-_FphqN",
        "_ouA3fa0phqN",
        "Seke61FWphqN",
        "PIIx-8_IphqN",
        "t27r6nlMphqO",
        "r2jJGEOYphqO",
        "b0JNsNcRphqO",
        "BZR9WyysphqO",
        "jj7wYXLtphqO",
        "eZrbJ2SmphqO",
        "rFu4xreNphqO",
        "YJ55k-q6phqO",
        "gCFgpxoyphqP",
        "OVtJsKN_phqQ",
        "lssrdh5qphqQ",
        "U2RJ9gkRphqQ",
        "1M8mcRywphqQ",
        "tgIPom80phqQ",
        "JMzcOPDDphqR",
        "x-EpHcCOp1ci",
        "X_VqEhTip1ck",
        "8zGJKyg5p1ck",
        "PVzmfK_Ep1ck",
        "n3dbpmDWp1ck",
        "ylSl6qgtp1ck",
        "ZWILFDl5p1ck",
        "M7G43BXep1ck",
        "Ag9LCva-p1cl",
        "E6MkPsBcp1cl",
        "2cELzS2fp1cl",
        "3MPXvC8up1cl",
        "NC_X3p0fY2L0",
        "UV0SzAkaZNRQ",
        "YPEH6qLeZNRQ",
        "q29F0dvdveiT",
        "EXh0U9oCveiU",
        "22aHeOlLveiV",
        "JcMwzZxoAimU",
        "8G2x9gOozGDZ",
        "gCX9965dhzqZ",
        "gIfDvo9L0UH2"
      ],
      "include_colab_link": true
    },
    "kernelspec": {
      "name": "python3",
      "display_name": "Python 3"
    },
    "language_info": {
      "name": "python"
    }
  },
  "cells": [
    {
      "cell_type": "markdown",
      "metadata": {
        "id": "view-in-github",
        "colab_type": "text"
      },
      "source": [
        "<a href=\"https://colab.research.google.com/github/Sagarjain93/Google-Playstore-Reviews/blob/main/Google_Playstore_App_Review_.ipynb\" target=\"_parent\"><img src=\"https://colab.research.google.com/assets/colab-badge.svg\" alt=\"Open In Colab\"/></a>"
      ]
    },
    {
      "cell_type": "code",
      "source": [],
      "metadata": {
        "id": "I1apcow5dxii"
      },
      "execution_count": null,
      "outputs": []
    },
    {
      "cell_type": "markdown",
      "source": [
        "# **Project Name**    - Google PlayStore Reviews\n",
        "\n"
      ],
      "metadata": {
        "id": "vncDsAP0Gaoa"
      }
    },
    {
      "cell_type": "markdown",
      "source": [
        "##### **Project Type**    - Exploratory Data Analysis (EDA)\n",
        "##### **Contribution**    - Individual\n",
        "##### **Team Member 1**   - SAGAR JAIN\n",
        "##### **Team Member 2 -**\n",
        "##### **Team Member 3 -**\n",
        "##### **Team Member 4 -**"
      ],
      "metadata": {
        "id": "beRrZCGUAJYm"
      }
    },
    {
      "cell_type": "markdown",
      "source": [
        "# **Project Summary -**"
      ],
      "metadata": {
        "id": "FJNUwmbgGyua"
      }
    },
    {
      "cell_type": "markdown",
      "source": [
        "Write the summary here within 500-600 words."
      ],
      "metadata": {
        "id": "F6v_1wHtG2nS"
      }
    },
    {
      "cell_type": "markdown",
      "source": [
        "# **GitHub Link -**"
      ],
      "metadata": {
        "id": "w6K7xa23Elo4"
      }
    },
    {
      "cell_type": "markdown",
      "source": [
        "https://github.com/Sagarjain93/Google-Playstore-Reviews"
      ],
      "metadata": {
        "id": "h1o69JH3Eqqn"
      }
    },
    {
      "cell_type": "markdown",
      "source": [
        "# **Problem Statement**\n"
      ],
      "metadata": {
        "id": "yQaldy8SH6Dl"
      }
    },
    {
      "cell_type": "markdown",
      "source": [
        "**Write Problem Statement Here.**"
      ],
      "metadata": {
        "id": "DpeJGUA3kjGy"
      }
    },
    {
      "cell_type": "markdown",
      "source": [
        "#### **Define Your Business Objective?**"
      ],
      "metadata": {
        "id": "PH-0ReGfmX4f"
      }
    },
    {
      "cell_type": "markdown",
      "source": [
        "Answer Here."
      ],
      "metadata": {
        "id": "PhDvGCAqmjP1"
      }
    },
    {
      "cell_type": "markdown",
      "source": [
        "# **General Guidelines** : -  "
      ],
      "metadata": {
        "id": "mDgbUHAGgjLW"
      }
    },
    {
      "cell_type": "markdown",
      "source": [
        "1.   Well-structured, formatted, and commented code is required.\n",
        "2.   Exception Handling, Production Grade Code & Deployment Ready Code will be a plus. Those students will be awarded some additional credits.\n",
        "     \n",
        "     The additional credits will have advantages over other students during Star Student selection.\n",
        "       \n",
        "             [ Note: - Deployment Ready Code is defined as, the whole .ipynb notebook should be executable in one go\n",
        "                       without a single error logged. ]\n",
        "\n",
        "3.   Each and every logic should have proper comments.\n",
        "4. You may add as many number of charts you want. Make Sure for each and every chart the following format should be answered.\n",
        "        \n",
        "\n",
        "```\n",
        "# Chart visualization code\n",
        "```\n",
        "            \n",
        "\n",
        "*   Why did you pick the specific chart?\n",
        "*   What is/are the insight(s) found from the chart?\n",
        "* Will the gained insights help creating a positive business impact?\n",
        "Are there any insights that lead to negative growth? Justify with specific reason.\n",
        "\n",
        "5. You have to create at least 20 logical & meaningful charts having important insights.\n",
        "\n",
        "\n",
        "[ Hints : - Do the Vizualization in  a structured way while following \"UBM\" Rule.\n",
        "\n",
        "U - Univariate Analysis,\n",
        "\n",
        "B - Bivariate Analysis (Numerical - Categorical, Numerical - Numerical, Categorical - Categorical)\n",
        "\n",
        "M - Multivariate Analysis\n",
        " ]\n",
        "\n",
        "\n",
        "\n"
      ],
      "metadata": {
        "id": "ZrxVaUj-hHfC"
      }
    },
    {
      "cell_type": "markdown",
      "source": [
        "# ***Let's Begin !***"
      ],
      "metadata": {
        "id": "O_i_v8NEhb9l"
      }
    },
    {
      "cell_type": "markdown",
      "source": [
        "## ***1. Know Your Data***"
      ],
      "metadata": {
        "id": "HhfV-JJviCcP"
      }
    },
    {
      "cell_type": "markdown",
      "source": [
        "### 1.1 Import Libraries"
      ],
      "metadata": {
        "id": "Y3lxredqlCYt"
      }
    },
    {
      "cell_type": "code",
      "source": [
        "# Import Libraries\n",
        "\n",
        "#Data Manipulation Libraries\n",
        "import pandas as pd\n",
        "import numpy as np\n",
        "\n",
        "#Data Visualization libraries\n",
        "import matplotlib.pyplot as plt\n",
        "import seaborn as sns\n",
        "\n",
        "#Date time libraries\n",
        "import datetime as dt\n",
        "from datetime import datetime\n",
        "\n",
        "#Set consistant theme for plots\n",
        "sns.set_theme(style='whitegrid')"
      ],
      "metadata": {
        "id": "M8Vqi-pPk-HR"
      },
      "execution_count": null,
      "outputs": []
    },
    {
      "cell_type": "markdown",
      "source": [
        "### 1.2 Dataset Loading"
      ],
      "metadata": {
        "id": "3RnN4peoiCZX"
      }
    },
    {
      "cell_type": "code",
      "source": [
        "# Load Dataset\n",
        "\n",
        "from google.colab import drive\n",
        "drive.mount('/content/drive')"
      ],
      "metadata": {
        "id": "4CkvbW_SlZ_R"
      },
      "execution_count": null,
      "outputs": []
    },
    {
      "cell_type": "code",
      "source": [
        "# Load Dataset\n",
        "df_play_store = pd.read_csv('/content/drive/MyDrive/colab/eda/Google Playstore Reviews/Play Store Data.csv')\n",
        "df_user_review = pd.read_csv('/content/drive/MyDrive/colab/eda/Google Playstore Reviews/User Reviews Data.csv')"
      ],
      "metadata": {
        "id": "O3B-BH6iKlym"
      },
      "execution_count": null,
      "outputs": []
    },
    {
      "cell_type": "markdown",
      "source": [
        "### 1.3 Dataset First View"
      ],
      "metadata": {
        "id": "x71ZqKXriCWQ"
      }
    },
    {
      "cell_type": "code",
      "source": [
        "# View First few rows of Play_store_data\n",
        "df_play_store.head()"
      ],
      "metadata": {
        "id": "LWNFOSvLl09H",
        "collapsed": true
      },
      "execution_count": null,
      "outputs": []
    },
    {
      "cell_type": "code",
      "source": [
        "# View First Few Rows Of User_review_data\n",
        "df_user_review.head()"
      ],
      "metadata": {
        "collapsed": true,
        "id": "zivwHejFLtx5"
      },
      "execution_count": null,
      "outputs": []
    },
    {
      "cell_type": "markdown",
      "source": [
        "### 1.4 Dataset Rows & Columns count"
      ],
      "metadata": {
        "id": "7hBIi_osiCS2"
      }
    },
    {
      "cell_type": "code",
      "source": [
        "# Dataset Rows & Columns count\n",
        "print (f\" The shape of the Play store dataset is {df_play_store.shape}\")\n",
        "print(f\" The Shape of the User Reviews data is {df_user_review.shape}\")"
      ],
      "metadata": {
        "id": "Kllu7SJgmLij"
      },
      "execution_count": null,
      "outputs": []
    },
    {
      "cell_type": "markdown",
      "source": [
        "*  The Play Store dataset has 10841 rows and 16 columns.\n",
        "\n",
        "*  The User Reviews dataset has 64295 rows and 5 columns."
      ],
      "metadata": {
        "id": "bjqvVJL3NRFI"
      }
    },
    {
      "cell_type": "markdown",
      "source": [
        "### 1.6 Dataset Information"
      ],
      "metadata": {
        "id": "JlHwYmJAmNHm"
      }
    },
    {
      "cell_type": "code",
      "source": [
        "# Play Store Dataset Info\n",
        "df_play_store.info()"
      ],
      "metadata": {
        "id": "e9hRXRi6meOf",
        "collapsed": true
      },
      "execution_count": null,
      "outputs": []
    },
    {
      "cell_type": "code",
      "source": [
        "# User Review Dataset Info\n",
        "df_user_review.info()"
      ],
      "metadata": {
        "collapsed": true,
        "id": "W46EGRpt9tls"
      },
      "execution_count": null,
      "outputs": []
    },
    {
      "cell_type": "markdown",
      "source": [
        "#### Duplicate Values"
      ],
      "metadata": {
        "id": "35m5QtbWiB9F"
      }
    },
    {
      "cell_type": "code",
      "source": [
        "# Play Store Dataset Duplicate Value Count\n",
        "df_play_store.duplicated().sum()"
      ],
      "metadata": {
        "id": "1sLdpKYkmox0"
      },
      "execution_count": null,
      "outputs": []
    },
    {
      "cell_type": "code",
      "source": [
        "# User Review Dataset Duplicate Value Count\n",
        "df_user_review.duplicated().sum()"
      ],
      "metadata": {
        "id": "_H5fOHLT-f7w"
      },
      "execution_count": null,
      "outputs": []
    },
    {
      "cell_type": "markdown",
      "source": [
        "#### Missing Values/Null Values"
      ],
      "metadata": {
        "id": "PoPl-ycgm1ru"
      }
    },
    {
      "cell_type": "code",
      "source": [
        "# Missing Values/Null Values Count in Play Store Dataset\n",
        "df_play_store.isnull().sum()"
      ],
      "metadata": {
        "id": "GgHWkxvamxVg"
      },
      "execution_count": null,
      "outputs": []
    },
    {
      "cell_type": "code",
      "source": [
        "# Missing Values/Null Values Count in User Review Dataset\n",
        "df_user_review.isnull().sum()"
      ],
      "metadata": {
        "id": "10sxZmYV-t-S"
      },
      "execution_count": null,
      "outputs": []
    },
    {
      "cell_type": "code",
      "source": [
        "#  Visualizing the missing values in Play store data set\n",
        "(df_play_store.isnull().sum() / len(df_play_store) * 100).sort_values(ascending=False).plot(\n",
        "    kind='bar', figsize=(8,5), color='lightgreen', edgecolor='blue')\n",
        "plt.title(\"Percentage of Missing Values by Column\")\n",
        "plt.ylabel(\"Percentage\")\n",
        "plt.xticks(rotation=90)\n",
        "plt.show()"
      ],
      "metadata": {
        "id": "3q5wnI3om9sJ"
      },
      "execution_count": null,
      "outputs": []
    },
    {
      "cell_type": "code",
      "source": [
        "#  Visualizing the missing values in User Review data set\n",
        "(df_user_review.isnull().sum() / len(df_user_review) * 100).sort_values(ascending=False).plot(\n",
        "    kind='bar', figsize=(8,5), color='lightgreen', edgecolor='blue')\n",
        "plt.title(\"Percentage of Missing Values by Column\")\n",
        "plt.ylabel(\"Percentage\")\n",
        "plt.xticks(rotation=90)\n",
        "plt.show()"
      ],
      "metadata": {
        "id": "apMAl5wU_iPe"
      },
      "execution_count": null,
      "outputs": []
    },
    {
      "cell_type": "markdown",
      "source": [
        "#### What did you know about your dataset?"
      ],
      "metadata": {
        "id": "JvV_dXSbTMtQ"
      }
    },
    {
      "cell_type": "markdown",
      "source": [
        "**PLAY STORE DATA SET (df_play_store)**\n",
        "\n",
        "\n",
        "**1. Dataset Size & Structure**\n",
        "\n",
        "*  Rows: 10,841\n",
        "\n",
        "*  Columns: 13\n",
        "\n",
        "**2. Duplicates:483**\n",
        "\n",
        "**3. Missing values:**\n",
        "\n",
        "*  Rating → 1,474 missing\n",
        "\n",
        "*  Type → 1 missing\n",
        "\n",
        "*  Content Rating → 1 missing\n",
        "\n",
        "*  Current Ver → 8 missing\n",
        "\n",
        "*  Android Ver → 3 missing"
      ],
      "metadata": {
        "id": "Ya-cY40x_01_"
      }
    },
    {
      "cell_type": "markdown",
      "source": [
        "**USER REVIEW DATASET (df_user_review)**\n",
        "\n",
        "**1. Dataset Size and Structure**\n",
        "\n",
        "*  Rows: 64,295\n",
        "\n",
        "*  Columns: 5\n",
        "\n",
        "**2.Duplicates: 33,616**\n",
        "\n",
        "**3.Missing values:**\n",
        "\n",
        "*  Translated_Review → 26,868 missing\n",
        "\n",
        "*  Sentiment, Sentiment_Polarity, Sentiment_Subjectivity → each has 26,863 missing"
      ],
      "metadata": {
        "id": "J9lrIpp1AicA"
      }
    },
    {
      "cell_type": "markdown",
      "source": [
        "**Key Observations Before Merging**\n",
        "\n",
        "*  **Common Key:** Both datasets share the column App — this will be our join key.\n",
        "\n",
        "*  **Duplicates:** We have a high duplicate ratio (Play Store ~4.5%, User Review ~52%).\n",
        "\n",
        "*  **Nulls:** Especially in review text and sentiment columns; if merged, I’ll carry forward a lot of missing values.\n",
        "\n",
        "*  **Data Type Issues:** Reviews, Installs, Price, Size are stored as object in df_play_store — need conversion before analysis."
      ],
      "metadata": {
        "id": "sxhESSuRBXlB"
      }
    },
    {
      "cell_type": "markdown",
      "source": [
        "**Dataset Size & Structure**\n",
        "\n",
        "*  Rows: 10,841\n",
        "\n",
        "*  Columns: 16 (12 from Play Store data + 3 aggregated sentiment metrics + 1 review count)\n",
        "\n",
        "\n",
        "\n"
      ],
      "metadata": {
        "id": "H0kj-8xxnORC"
      }
    },
    {
      "cell_type": "markdown",
      "source": [
        "\n",
        "\n",
        "**Duplicate Records**\n",
        "\n",
        "*  483 fully duplicated rows\n",
        "\n",
        "Likely caused by:\n",
        "\n",
        "*  Same app details appearing more than once in the Play Store dataset before merging.\n",
        "\n",
        "Or multiple rows with identical values after aggregation."
      ],
      "metadata": {
        "id": "gfoNAAC-nUe_"
      }
    },
    {
      "cell_type": "markdown",
      "source": [
        "**Missing Values**\n",
        "\n",
        "*  Rating — 1,474 missing (some apps have no rating).\n",
        "\n",
        "*  Type — 1 missing (likely data entry error).\n",
        "\n",
        "*  Content Rating — 1 missing.\n",
        "\n",
        "*  Current Ver — 8 missing.\n",
        "\n",
        "*  Android Ver — 3 missing.\n",
        "\n",
        "*  Aggregated Review Columns (Avg_Sentiment_Polarity, Avg_Sentiment_Subjectivity, Review_Count) — Missing in ~88% of rows because many apps had no reviews in the user review dataset."
      ],
      "metadata": {
        "id": "LT03GQhWShzB"
      }
    },
    {
      "cell_type": "markdown",
      "source": [
        "**Column Types**\n",
        "\n",
        "**Numeric**: Only 3 columns are numeric (Rating, Sentiment_Polarity, Sentiment_Subjectivity), all float64.\n",
        "\n",
        "**Categorical/Object**: 14 columns including App, Category, Size, Installs, etc. Many may need cleaning (e.g., Price, Installs, Size stored as text)."
      ],
      "metadata": {
        "id": "5vCOrbjbS1vx"
      }
    },
    {
      "cell_type": "markdown",
      "source": [
        "**Potential Data Quality Issues**\n",
        "\n",
        "*  Reviews, Size, Installs, and Price are stored as strings but may need numeric conversion after cleaning symbols/units.\n",
        "\n",
        "*  Sentiment-related columns have high missingness — some analyses might need to exclude them.\n",
        "\n",
        "*  Duplicates may be inflating statistics and skewing results."
      ],
      "metadata": {
        "id": "YUb6ASkKS-OF"
      }
    },
    {
      "cell_type": "markdown",
      "source": [
        "## ***2. Understanding Your Variables***"
      ],
      "metadata": {
        "id": "nA9Y7ga8ng1Z"
      }
    },
    {
      "cell_type": "markdown",
      "source": [
        "### Dataset Columns"
      ],
      "metadata": {
        "id": "6rIVA0-BVFr2"
      }
    },
    {
      "cell_type": "code",
      "source": [
        "# Play Store Dataset Columns\n",
        "df_play_store.columns"
      ],
      "metadata": {
        "id": "j7xfkqrt5Ag5"
      },
      "execution_count": null,
      "outputs": []
    },
    {
      "cell_type": "code",
      "source": [
        "# User Review DataSet Columns\n",
        "df_user_review.columns"
      ],
      "metadata": {
        "id": "DGpmTYyYRquR"
      },
      "execution_count": null,
      "outputs": []
    },
    {
      "cell_type": "markdown",
      "source": [
        "### Dataset Describe"
      ],
      "metadata": {
        "id": "a7OcSSjOVLLS"
      }
    },
    {
      "cell_type": "code",
      "source": [
        "# Play Store Dataset Describe\n",
        "df_play_store.describe().round()"
      ],
      "metadata": {
        "id": "DnOaZdaE5Q5t"
      },
      "execution_count": null,
      "outputs": []
    },
    {
      "cell_type": "code",
      "source": [
        "# User Review Dataset Describe\n",
        "df_user_review.describe().round()"
      ],
      "metadata": {
        "id": "yhmz-9FtR-Y7"
      },
      "execution_count": null,
      "outputs": []
    },
    {
      "cell_type": "markdown",
      "source": [
        "### Variables Description"
      ],
      "metadata": {
        "id": "PBTbrJXOngz2"
      }
    },
    {
      "cell_type": "markdown",
      "source": [
        "| Column                      | Description                                                                             |\n",
        "| --------------------------- | --------------------------------------------------------------------------------------- |\n",
        "| **App**                     | Name of the mobile application.                                                         |\n",
        "| **Category**                | Category/genre of the app (e.g., Games, Education, Business).                           |\n",
        "| **Rating**                  | Average user rating of the app (scale typically 1–5).                                   |\n",
        "| **Reviews**                 | Number of user reviews submitted for the app.                                           |\n",
        "| **Size**                    | Size of the app (e.g., “14M”, “Varies with device”).                                    |\n",
        "| **Installs**                | Total number of times the app has been installed (string with symbols, e.g., “1,000+”). |\n",
        "| **Type**                    | Indicates if the app is free or paid.                                                   |\n",
        "| **Price**                   | Price of the app (e.g., “0” for free, “\\$2.99” for paid).                               |\n",
        "| **Content Rating**          | Age group suitability (e.g., “Everyone”, “Teen”).                                       |\n",
        "| **Genres**                  | Additional genre classification (can have multiple genres separated by “;”).            |\n",
        "| **Last Updated**            | Date when the app was last updated.                                                     |\n",
        "| **Current Ver**             | Current version of the app.                                                             |\n",
        "| **Android Ver**             | Minimum Android version required to run the app.                                        |\n",
        "| **Translated\\_Review**      | User review text (translated into a common language, typically English).                |\n",
        "| **Sentiment**               | Sentiment category derived from the review (e.g., Positive, Negative, Neutral).         |\n",
        "| **Sentiment\\_Polarity**     | Sentiment polarity score (-1 = negative, 0 = neutral, +1 = positive).                   |\n",
        "| **Sentiment\\_Subjectivity** | Degree of subjectivity in the review (0 = factual, 1 = opinion-based).                  |\n"
      ],
      "metadata": {
        "id": "CDPjGkx0UnO1"
      }
    },
    {
      "cell_type": "markdown",
      "source": [
        "### Check Unique Values for each variable."
      ],
      "metadata": {
        "id": "u3PMJOP6ngxN"
      }
    },
    {
      "cell_type": "code",
      "source": [
        "# Check Unique Values for each variable of Play Store Dataset\n",
        "df_play_store.nunique()"
      ],
      "metadata": {
        "id": "zms12Yq5n-jE"
      },
      "execution_count": null,
      "outputs": []
    },
    {
      "cell_type": "code",
      "source": [
        "for col in df_play_store.columns:\n",
        "    print(f\"\\nColumn: {col}\")\n",
        "    print(df_play_store[col].unique())\n"
      ],
      "metadata": {
        "id": "iEuTg_FB_U_g"
      },
      "execution_count": null,
      "outputs": []
    },
    {
      "cell_type": "code",
      "source": [
        "# Check Unique Values for each variable of User Review Dataset\n",
        "df_user_review.nunique()"
      ],
      "metadata": {
        "id": "ukh04uSBSI9t"
      },
      "execution_count": null,
      "outputs": []
    },
    {
      "cell_type": "code",
      "source": [
        "for col in df_user_review.columns:\n",
        "    print(f\"\\nColumn: {col}\")\n",
        "    print(df_user_review[col].unique())\n"
      ],
      "metadata": {
        "id": "6WJrjVXCBtpj"
      },
      "execution_count": null,
      "outputs": []
    },
    {
      "cell_type": "markdown",
      "source": [
        "## 3. ***Data Wrangling***"
      ],
      "metadata": {
        "id": "dauF4eBmngu3"
      }
    },
    {
      "cell_type": "markdown",
      "source": [
        "### **Data Cleaning And Preprocessing In Play_store Dataset And User_review Dataset**"
      ],
      "metadata": {
        "id": "yp_X9ordfJCA"
      }
    },
    {
      "cell_type": "markdown",
      "source": [
        "####  Remove Whitespace From All Object Columns"
      ],
      "metadata": {
        "id": "JNHfoijZUY3g"
      }
    },
    {
      "cell_type": "code",
      "source": [
        "# Remove whitespace from all object columns\n",
        "for df in (df_play_store, df_user_review):\n",
        "    for col in df.select_dtypes(include='object').columns:\n",
        "        df.loc[:, col] = df[col].str.strip()"
      ],
      "metadata": {
        "id": "UkrDBfWjYWnA"
      },
      "execution_count": null,
      "outputs": []
    },
    {
      "cell_type": "markdown",
      "source": [
        "####  Remove Duplicates"
      ],
      "metadata": {
        "id": "ydiXWa4EUoQk"
      }
    },
    {
      "cell_type": "code",
      "source": [
        "# Remove exact duplicates\n",
        "df_play_store.drop_duplicates(inplace=True)\n",
        "df_user_review.drop_duplicates(inplace=True)"
      ],
      "metadata": {
        "id": "kc4VJoZuUxJ7"
      },
      "execution_count": null,
      "outputs": []
    },
    {
      "cell_type": "markdown",
      "source": [
        "####  Standardize Column Names"
      ],
      "metadata": {
        "id": "RmzzU3YQU66Z"
      }
    },
    {
      "cell_type": "code",
      "source": [
        "df_play_store.columns = df_play_store.columns.str.replace(' ', '_').str.lower()\n",
        "df_user_review.columns = df_user_review.columns.str.replace(' ', '_').str.lower()"
      ],
      "metadata": {
        "id": "PpiojM4rU5r8"
      },
      "execution_count": null,
      "outputs": []
    },
    {
      "cell_type": "markdown",
      "source": [
        "#### Cleaning And Converting Columns"
      ],
      "metadata": {
        "id": "Yjqejby5VD6J"
      }
    },
    {
      "cell_type": "markdown",
      "source": [
        "Converting 'installs' columns from text to numeric and changing its datatype"
      ],
      "metadata": {
        "id": "XncWWYpUf1OD"
      }
    },
    {
      "cell_type": "code",
      "source": [
        "df_play_store['installs'] = (\n",
        "    df_play_store['installs']\n",
        "    .astype(str)                           # Ensure strings\n",
        "    .str.replace(r'[^0-9]', '', regex=True) # Remove \"+\" and commas\n",
        "    .replace('', np.nan)                    # Replace empty with NaN\n",
        "    .astype(float)                          # Convert to numeric\n",
        "    .astype('Int64')                         # Convert to integer (nullable)\n",
        ")"
      ],
      "metadata": {
        "id": "0oRMjMo2VH8W"
      },
      "execution_count": null,
      "outputs": []
    },
    {
      "cell_type": "markdown",
      "source": [
        "Exploring Unique App Genres"
      ],
      "metadata": {
        "id": "3w5hU5nNf-bR"
      }
    },
    {
      "cell_type": "code",
      "source": [
        "all_genres = set()\n",
        "\n",
        "df_play_store['genres'].dropna().apply(lambda x: all_genres.update(x.split(';')))\n",
        "\n",
        "print(\"Unique Genres:\", all_genres)\n",
        "print(\"Number of Unique Genres:\", len(all_genres))\n"
      ],
      "metadata": {
        "id": "hHWhRTOLJtIr"
      },
      "execution_count": null,
      "outputs": []
    },
    {
      "cell_type": "markdown",
      "source": [
        "Cleaning and Converting Price Column"
      ],
      "metadata": {
        "id": "7UUl66MfgPJx"
      }
    },
    {
      "cell_type": "code",
      "source": [
        "df_play_store['price'] = (\n",
        "    df_play_store['price']\n",
        "    .astype(str)\n",
        "    .str.replace(r'[^0-9]', '', regex=True)  # Remove \"$\", \"₹\", text\n",
        "    .replace('', np.nan)\n",
        "    .astype('Int64')\n",
        ")\n"
      ],
      "metadata": {
        "id": "eLTshCXULakL"
      },
      "execution_count": null,
      "outputs": []
    },
    {
      "cell_type": "markdown",
      "source": [
        "Converting App Size to Numeric (MB)"
      ],
      "metadata": {
        "id": "dIYnxR_JgUYg"
      }
    },
    {
      "cell_type": "code",
      "source": [
        "def size_to_mb(size):\n",
        "    size = str(size).strip().upper()\n",
        "    if 'M' in size:\n",
        "        return float(size.replace('M', ''))\n",
        "    elif 'K' in size:\n",
        "        return float(size.replace('K', '')) / 1024  # KB → MB\n",
        "    else:\n",
        "        return np.nan  # For \"Varies with device\" or missing\n",
        "\n",
        "df_play_store['size_mb'] = df_play_store['size'].apply(size_to_mb)"
      ],
      "metadata": {
        "id": "7_qTj81wKrP3"
      },
      "execution_count": null,
      "outputs": []
    },
    {
      "cell_type": "markdown",
      "source": [
        "Aggregating User Reviews to App-Level"
      ],
      "metadata": {
        "id": "66D9ag1aga6l"
      }
    },
    {
      "cell_type": "code",
      "source": [
        "# Count of sentiments per app\n",
        "sent_counts = df_user_review.pivot_table(\n",
        "    index='app',\n",
        "    columns='sentiment',\n",
        "    values='translated_review',\n",
        "    aggfunc='count',\n",
        "    fill_value=0\n",
        ").reset_index()\n",
        "\n",
        "# Average polarity/subjectivity per app\n",
        "agg_stats = df_user_review.groupby('app').agg({\n",
        "    'sentiment_polarity': ['mean'],\n",
        "    'sentiment_subjectivity': ['mean']\n",
        "}).reset_index()\n",
        "\n",
        "# Flatten multi-level columns\n",
        "agg_stats.columns = ['app'] + ['_'.join(col).strip() for col in agg_stats.columns[1:]]\n",
        "\n",
        "# Merge counts + stats\n",
        "reviews_agg = sent_counts.merge(agg_stats, on='app', how='left')\n"
      ],
      "metadata": {
        "id": "d6t7NCQ-K51N"
      },
      "execution_count": null,
      "outputs": []
    },
    {
      "cell_type": "markdown",
      "source": [
        "Changing Datatype of 'last_updated' to datetime datatype"
      ],
      "metadata": {
        "id": "C-5kUZywgd5W"
      }
    },
    {
      "cell_type": "code",
      "source": [
        "df_play_store['last_updated'] = pd.to_datetime(df_play_store['last_updated'], errors='coerce')"
      ],
      "metadata": {
        "id": "Op_uADwULWXy"
      },
      "execution_count": null,
      "outputs": []
    },
    {
      "cell_type": "markdown",
      "source": [
        "### **Merging The Two Datasets**\n"
      ],
      "metadata": {
        "id": "AofHqxFKeXI9"
      }
    },
    {
      "cell_type": "code",
      "source": [
        "# merging the play_store and reviews_agg dataset\n",
        "df_merged = df_play_store.merge(reviews_agg, on='app', how='left')"
      ],
      "metadata": {
        "id": "l-Bsru2lWc3R"
      },
      "execution_count": null,
      "outputs": []
    },
    {
      "cell_type": "markdown",
      "source": [
        "#### View First Few Rows Of The Merged Dataset"
      ],
      "metadata": {
        "id": "XyTCjoA3hbnm"
      }
    },
    {
      "cell_type": "code",
      "source": [
        "# few first few columns\n",
        "df_merged.head()"
      ],
      "metadata": {
        "id": "bLRVEpMgWf0N"
      },
      "execution_count": null,
      "outputs": []
    },
    {
      "cell_type": "markdown",
      "source": [
        "#### Merged Dataset Shape,Size and Columns"
      ],
      "metadata": {
        "id": "SGZa0IqHiWDo"
      }
    },
    {
      "cell_type": "code",
      "source": [
        "df_merged.shape"
      ],
      "metadata": {
        "id": "1-dIU2i-ieDL"
      },
      "execution_count": null,
      "outputs": []
    },
    {
      "cell_type": "code",
      "source": [
        "df_merged.size"
      ],
      "metadata": {
        "id": "BYAyyilCihA8"
      },
      "execution_count": null,
      "outputs": []
    },
    {
      "cell_type": "code",
      "source": [
        "df_merged.columns"
      ],
      "metadata": {
        "id": "L503mVVTjKy6"
      },
      "execution_count": null,
      "outputs": []
    },
    {
      "cell_type": "markdown",
      "source": [
        "#### Merged Dataset Info And Describe"
      ],
      "metadata": {
        "id": "6ZLfEabWizZb"
      }
    },
    {
      "cell_type": "code",
      "source": [
        "df_merged.info()"
      ],
      "metadata": {
        "id": "__rOMqo3iiba"
      },
      "execution_count": null,
      "outputs": []
    },
    {
      "cell_type": "code",
      "source": [
        "df_merged.describe().round(2)"
      ],
      "metadata": {
        "id": "VI-CpRKKioqa"
      },
      "execution_count": null,
      "outputs": []
    },
    {
      "cell_type": "markdown",
      "source": [
        "#### Checking and Handling Null Values In Merged Dataset"
      ],
      "metadata": {
        "id": "l8ZvFkX2hRoB"
      }
    },
    {
      "cell_type": "code",
      "source": [
        "#checking null values in the new merged dataset\n",
        "df_merged.isnull().sum()"
      ],
      "metadata": {
        "id": "LWpoDXC8WxfK"
      },
      "execution_count": null,
      "outputs": []
    },
    {
      "cell_type": "markdown",
      "source": [
        "Handling Missing Values in Review Metrics"
      ],
      "metadata": {
        "id": "KFE9Il-uhIhq"
      }
    },
    {
      "cell_type": "code",
      "source": [
        "# removing null values in the various review columns\n",
        "review_cols = ['Negative', 'Neutral', 'Positive', 'sentiment_polarity_mean', 'sentiment_subjectivity_mean']\n",
        "df_merged[review_cols] = df_merged[review_cols].fillna(0)"
      ],
      "metadata": {
        "id": "nVB90qpaXZiB"
      },
      "execution_count": null,
      "outputs": []
    },
    {
      "cell_type": "code",
      "source": [
        "df_merged['reviews'] = (\n",
        "    df_merged['reviews']\n",
        "    .astype(str)                 # Ensure it’s string for cleaning\n",
        "    .str.replace(r'[^0-9]', '', regex=True)  # Remove any non-numeric characters (commas, symbols)\n",
        "    .replace('', np.nan)         # Empty strings → NaN\n",
        "    .astype('Int64')             # Nullable integer\n",
        ")\n"
      ],
      "metadata": {
        "id": "K4zaMX01daG5"
      },
      "execution_count": null,
      "outputs": []
    },
    {
      "cell_type": "markdown",
      "source": [
        "Filling Nulls in Rating, Installs, Price, and Size"
      ],
      "metadata": {
        "id": "EBkkCIA8hPw2"
      }
    },
    {
      "cell_type": "code",
      "source": [
        "# filling the null values in 'rating','installs','price','size_mb' with their medians\n",
        "for col in ['rating', 'installs', 'price', 'size_mb']:\n",
        "    df_merged[col] = df_merged[col].fillna(df_merged[col].median())"
      ],
      "metadata": {
        "id": "nnu5ay_HXgVw"
      },
      "execution_count": null,
      "outputs": []
    },
    {
      "cell_type": "markdown",
      "source": [
        "Handling Type, Content Rating, Current Version, and Android Version"
      ],
      "metadata": {
        "id": "MJGxV_k9h0PO"
      }
    },
    {
      "cell_type": "code",
      "source": [
        "cat_cols = ['type', 'content_rating', 'current_ver', 'android_ver']\n",
        "for col in cat_cols:\n",
        "    df_merged[col] = df_merged[col].fillna(df_merged[col].mode()[0])"
      ],
      "metadata": {
        "id": "qroSIRtyXqto"
      },
      "execution_count": null,
      "outputs": []
    },
    {
      "cell_type": "code",
      "source": [
        "# Standardize \"Varies with device\" or similar typos\n",
        "df_merged['current_ver'] = df_merged['current_ver'].replace(\n",
        "    ['Varies with device', 'caried with devices', 'Varies with Devices'],\n",
        "    np.nan\n",
        ")\n"
      ],
      "metadata": {
        "id": "XMnz_fw7cze0"
      },
      "execution_count": null,
      "outputs": []
    },
    {
      "cell_type": "code",
      "source": [
        "df_merged['current_ver'] = df_merged['current_ver'].fillna(df_merged['current_ver'].mode()[0])"
      ],
      "metadata": {
        "id": "ZmE_HSyec30q"
      },
      "execution_count": null,
      "outputs": []
    },
    {
      "cell_type": "markdown",
      "source": [
        "Dropping Size and size_MB columns"
      ],
      "metadata": {
        "id": "CBsaJUafjvuN"
      }
    },
    {
      "cell_type": "code",
      "source": [
        "df_merged.columns"
      ],
      "metadata": {
        "id": "L0BDGqh9tog_"
      },
      "execution_count": null,
      "outputs": []
    },
    {
      "cell_type": "code",
      "source": [
        "df_merged = df_merged.drop(columns=['size'])"
      ],
      "metadata": {
        "id": "4IDr42KicMYk"
      },
      "execution_count": null,
      "outputs": []
    },
    {
      "cell_type": "markdown",
      "source": [
        "Handling Missing Values in Last Updated Column"
      ],
      "metadata": {
        "id": "5brzO55pkBlb"
      }
    },
    {
      "cell_type": "code",
      "source": [
        "df_merged.isnull().sum()"
      ],
      "metadata": {
        "id": "tnCZg5l3t6_Q"
      },
      "execution_count": null,
      "outputs": []
    },
    {
      "cell_type": "code",
      "source": [
        "df_merged['last_updated'] = df_merged['last_updated'].fillna(df_merged['last_updated'].median())"
      ],
      "metadata": {
        "id": "xedBMzzWXx8g"
      },
      "execution_count": null,
      "outputs": []
    },
    {
      "cell_type": "code",
      "source": [
        "# df_merged = df_merged.loc[:, ~df_merged.columns.duplicated()]"
      ],
      "metadata": {
        "id": "m-FXu7e4YZbG"
      },
      "execution_count": null,
      "outputs": []
    },
    {
      "cell_type": "code",
      "source": [
        "# df_merged['size_MB'] = df_merged['size_MB'].fillna(\n",
        "    # df_merged.groupby('category')['size_MB'].transform('median')\n",
        "# )"
      ],
      "metadata": {
        "id": "rs5RfeNcYze8"
      },
      "execution_count": null,
      "outputs": []
    },
    {
      "cell_type": "code",
      "source": [
        "# # Fill remaining NaNs with overall median\n",
        "# df_merged['size_MB'] = df_merged['size_MB'].fillna(df_merged['size_MB'].median())\n",
        "\n",
        "# # Verify\n",
        "# df_merged['size_MB'].isnull().sum()  # Should be 0\n"
      ],
      "metadata": {
        "id": "u87X1Oa-ZRBN"
      },
      "execution_count": null,
      "outputs": []
    },
    {
      "cell_type": "code",
      "source": [
        "df_merged.head()"
      ],
      "metadata": {
        "id": "_WL6JgkGuEmX"
      },
      "execution_count": null,
      "outputs": []
    },
    {
      "cell_type": "code",
      "source": [
        "df_merged.nunique("
      ],
      "metadata": {
        "id": "TjadaIYhuTLe"
      },
      "execution_count": null,
      "outputs": []
    },
    {
      "cell_type": "markdown",
      "source": [
        "### What all manipulations have you done and insights you found?"
      ],
      "metadata": {
        "id": "MSa1f5Uengrz"
      }
    },
    {
      "cell_type": "markdown",
      "source": [
        "**Play Store Dataset (df_play_store) Cleaning**\n",
        "\n",
        "*  Column name standardization\n",
        "\n",
        "     Replaced spaces with underscores for all column names (e.g., Content Rating to content_rating).\n",
        "\n",
        "*  String cleaning\n",
        "\n",
        "      Stripped leading/trailing spaces from string columns like App.\n",
        "\n",
        "*  Duplicate removal\n",
        "\n",
        "    Removed exact duplicate rows using drop_duplicates().\n",
        "\n",
        "*  Handling Rating column\n",
        "\n",
        "    Identified invalid values (like ratings > 5) and corrected/removed if necessary.\n",
        "\n",
        "    Cleaning numeric-like text columns\n",
        "\n",
        "    Installs: Removed + and commas, converted to integer.\n",
        "\n",
        "    Price: Removed $, ₹, converted to integer.\n",
        "\n",
        "    Size: Converted \"22M\"/\"340K\" to MB using a function, stored as size_mb.\n",
        "\n",
        "*  Handling categorical columns\n",
        "\n",
        "    Columns like Type, Content_Rating, Current_Ver, Android_Ver prepared for missing values.\n",
        "\n",
        "*  Datetime conversion\n",
        "\n",
        "    Converted Last_Updated to datetime64[ns].\n",
        "\n",
        "*  Handling missing values\n",
        "\n",
        "    Numeric columns (rating, installs, price, size_mb) → filled with median.\n",
        "\n",
        "    Categorical columns → filled with mode.\n",
        "\n",
        "    Last_Updated → filled with median date.\n",
        "\n",
        "*  Dropped unnecessary or duplicate columns\n",
        "\n",
        "    Dropped original size and duplicate size_MB columns.\n",
        "\n",
        "*  Review counts and sentiment aggregation preparation\n",
        "\n",
        "    Prepared Play Store dataset to merge with aggregated user review data later."
      ],
      "metadata": {
        "id": "jcywr45Vu-IE"
      }
    },
    {
      "cell_type": "markdown",
      "source": [
        "**User Review Dataset (df_user_review) Cleaning**\n",
        "\n",
        "*  String cleaning\n",
        "\n",
        "    Stripped leading/trailing spaces from App.\n",
        "\n",
        "*  Duplicate removal\n",
        "\n",
        "    Removed exact duplicate review rows.\n",
        "\n",
        "*  Handling missing values\n",
        "\n",
        "    Columns like Translated_Review, Sentiment, Sentiment_Polarity, Sentiment_Subjectivity had missing values; handled later during aggregation.\n",
        "\n",
        "*  Aggregating to app-level\n",
        "\n",
        "    Counted number of Negative, Neutral, Positive reviews per app using a pivot table.\n",
        "\n",
        "    Calculated average Sentiment_Polarity and Sentiment_Subjectivity per app.\n",
        "\n",
        "    Flattened multi-level columns and merged counts + averages → reviews_agg."
      ],
      "metadata": {
        "id": "LbyXE7I1olp8"
      }
    },
    {
      "cell_type": "markdown",
      "source": [
        "**Merging Play Store and User Review Data**\n",
        "\n",
        "*  Merge operation\n",
        "\n",
        "    Merged df_play_store and reviews_agg on App using a left join to preserve all apps from Play Store.\n",
        "\n",
        "*  Handling missing review values\n",
        "\n",
        "    Apps with no reviews → filled Negative, Neutral, Positive, sentiment_polarity_mean, sentiment_subjectivity_mean with 0."
      ],
      "metadata": {
        "id": "Y_qVupqGvMQH"
      }
    },
    {
      "cell_type": "markdown",
      "source": [
        "**Final Cleaning of Merged Dataset (df_merged)**\n",
        "\n",
        "*  Numeric columns\n",
        "\n",
        "    reviews, installs, price → converted to integers (Int64).\n",
        "\n",
        "    size_mb → float.\n",
        "\n",
        "    rating → float.\n",
        "\n",
        "    Review metrics\n",
        "\n",
        "    Negative, Neutral, Positive → converted to integer (Int64).\n",
        "\n",
        "    sentiment_polarity_mean, sentiment_subjectivity_mean → kept as float.\n",
        "\n",
        "*  Categorical columns\n",
        "\n",
        "    Filled missing values in type, content_rating, current_ver, android_ver with mode.\n",
        "\n",
        "    Cleaned current_ver values like \"Varies with device\" → NaN → filled with mode.\n",
        "\n",
        "*  Datetime column\n",
        "\n",
        "    last_updated → filled missing values with median date.\n",
        "\n",
        "*  Column deduplication\n",
        "\n",
        "    Removed duplicate size_MB/size_mb columns.\n",
        "\n",
        "*  Result\n",
        "\n",
        "    Dataset now has one row per app, with cleaned Play Store info and aggregated review metrics.\n",
        "\n",
        "  "
      ],
      "metadata": {
        "id": "I9III6t-vPEB"
      }
    },
    {
      "cell_type": "markdown",
      "source": [
        "**Outcome:**\n",
        "\n",
        "df_merged is a clean, analysis-ready dataset with 10358 apps and 18 columns, fully prepared for:\n",
        "\n",
        "*  EDA (plots, distributions, correlations)\n",
        "\n",
        "*  Statistical analysis\n",
        "\n",
        "*  ML modeling (e.g., predicting ratings, installs, or app success metrics)"
      ],
      "metadata": {
        "id": "5ie_60DIwW5l"
      }
    },
    {
      "cell_type": "markdown",
      "source": [
        "## ***4. Data Vizualization, Storytelling & Experimenting with charts : Understand the relationships between variables***"
      ],
      "metadata": {
        "id": "GF8Ens_Soomf"
      }
    },
    {
      "cell_type": "markdown",
      "source": [
        "#### Chart - 1"
      ],
      "metadata": {
        "id": "0wOQAZs5pc--"
      }
    },
    {
      "cell_type": "code",
      "source": [
        "# Chart - 1 visualization code"
      ],
      "metadata": {
        "id": "7v_ESjsspbW7"
      },
      "execution_count": null,
      "outputs": []
    },
    {
      "cell_type": "markdown",
      "source": [
        "##### 1. Why did you pick the specific chart?"
      ],
      "metadata": {
        "id": "K5QZ13OEpz2H"
      }
    },
    {
      "cell_type": "markdown",
      "source": [
        "Answer Here."
      ],
      "metadata": {
        "id": "XESiWehPqBRc"
      }
    },
    {
      "cell_type": "markdown",
      "source": [
        "##### 2. What is/are the insight(s) found from the chart?"
      ],
      "metadata": {
        "id": "lQ7QKXXCp7Bj"
      }
    },
    {
      "cell_type": "markdown",
      "source": [
        "Answer Here"
      ],
      "metadata": {
        "id": "C_j1G7yiqdRP"
      }
    },
    {
      "cell_type": "markdown",
      "source": [
        "##### 3. Will the gained insights help creating a positive business impact?\n",
        "Are there any insights that lead to negative growth? Justify with specific reason."
      ],
      "metadata": {
        "id": "448CDAPjqfQr"
      }
    },
    {
      "cell_type": "markdown",
      "source": [
        "Answer Here"
      ],
      "metadata": {
        "id": "3cspy4FjqxJW"
      }
    },
    {
      "cell_type": "markdown",
      "source": [
        "#### Chart - 2"
      ],
      "metadata": {
        "id": "KSlN3yHqYklG"
      }
    },
    {
      "cell_type": "code",
      "source": [
        "# Chart - 2 visualization code"
      ],
      "metadata": {
        "id": "R4YgtaqtYklH"
      },
      "execution_count": null,
      "outputs": []
    },
    {
      "cell_type": "markdown",
      "source": [
        "##### 1. Why did you pick the specific chart?"
      ],
      "metadata": {
        "id": "t6dVpIINYklI"
      }
    },
    {
      "cell_type": "markdown",
      "source": [
        "Answer Here."
      ],
      "metadata": {
        "id": "5aaW0BYyYklI"
      }
    },
    {
      "cell_type": "markdown",
      "source": [
        "##### 2. What is/are the insight(s) found from the chart?"
      ],
      "metadata": {
        "id": "ijmpgYnKYklI"
      }
    },
    {
      "cell_type": "markdown",
      "source": [
        "Answer Here"
      ],
      "metadata": {
        "id": "PSx9atu2YklI"
      }
    },
    {
      "cell_type": "markdown",
      "source": [
        "##### 3. Will the gained insights help creating a positive business impact?\n",
        "Are there any insights that lead to negative growth? Justify with specific reason."
      ],
      "metadata": {
        "id": "-JiQyfWJYklI"
      }
    },
    {
      "cell_type": "markdown",
      "source": [
        "Answer Here"
      ],
      "metadata": {
        "id": "BcBbebzrYklV"
      }
    },
    {
      "cell_type": "markdown",
      "source": [
        "#### Chart - 3"
      ],
      "metadata": {
        "id": "EM7whBJCYoAo"
      }
    },
    {
      "cell_type": "code",
      "source": [
        "# Chart - 3 visualization code"
      ],
      "metadata": {
        "id": "t6GMdE67YoAp"
      },
      "execution_count": null,
      "outputs": []
    },
    {
      "cell_type": "markdown",
      "source": [
        "##### 1. Why did you pick the specific chart?"
      ],
      "metadata": {
        "id": "fge-S5ZAYoAp"
      }
    },
    {
      "cell_type": "markdown",
      "source": [
        "Answer Here."
      ],
      "metadata": {
        "id": "5dBItgRVYoAp"
      }
    },
    {
      "cell_type": "markdown",
      "source": [
        "##### 2. What is/are the insight(s) found from the chart?"
      ],
      "metadata": {
        "id": "85gYPyotYoAp"
      }
    },
    {
      "cell_type": "markdown",
      "source": [
        "Answer Here"
      ],
      "metadata": {
        "id": "4jstXR6OYoAp"
      }
    },
    {
      "cell_type": "markdown",
      "source": [
        "##### 3. Will the gained insights help creating a positive business impact?\n",
        "Are there any insights that lead to negative growth? Justify with specific reason."
      ],
      "metadata": {
        "id": "RoGjAbkUYoAp"
      }
    },
    {
      "cell_type": "markdown",
      "source": [
        "Answer Here"
      ],
      "metadata": {
        "id": "zfJ8IqMcYoAp"
      }
    },
    {
      "cell_type": "markdown",
      "source": [
        "#### Chart - 4"
      ],
      "metadata": {
        "id": "4Of9eVA-YrdM"
      }
    },
    {
      "cell_type": "code",
      "source": [
        "# Chart - 4 visualization code"
      ],
      "metadata": {
        "id": "irlUoxc8YrdO"
      },
      "execution_count": null,
      "outputs": []
    },
    {
      "cell_type": "markdown",
      "source": [
        "##### 1. Why did you pick the specific chart?"
      ],
      "metadata": {
        "id": "iky9q4vBYrdO"
      }
    },
    {
      "cell_type": "markdown",
      "source": [
        "Answer Here."
      ],
      "metadata": {
        "id": "aJRCwT6DYrdO"
      }
    },
    {
      "cell_type": "markdown",
      "source": [
        "##### 2. What is/are the insight(s) found from the chart?"
      ],
      "metadata": {
        "id": "F6T5p64dYrdO"
      }
    },
    {
      "cell_type": "markdown",
      "source": [
        "Answer Here"
      ],
      "metadata": {
        "id": "Xx8WAJvtYrdO"
      }
    },
    {
      "cell_type": "markdown",
      "source": [
        "##### 3. Will the gained insights help creating a positive business impact?\n",
        "Are there any insights that lead to negative growth? Justify with specific reason."
      ],
      "metadata": {
        "id": "y-Ehk30pYrdP"
      }
    },
    {
      "cell_type": "markdown",
      "source": [
        "Answer Here"
      ],
      "metadata": {
        "id": "jLNxxz7MYrdP"
      }
    },
    {
      "cell_type": "markdown",
      "source": [
        "#### Chart - 5"
      ],
      "metadata": {
        "id": "bamQiAODYuh1"
      }
    },
    {
      "cell_type": "code",
      "source": [
        "# Chart - 5 visualization code"
      ],
      "metadata": {
        "id": "TIJwrbroYuh3"
      },
      "execution_count": null,
      "outputs": []
    },
    {
      "cell_type": "markdown",
      "source": [
        "##### 1. Why did you pick the specific chart?"
      ],
      "metadata": {
        "id": "QHF8YVU7Yuh3"
      }
    },
    {
      "cell_type": "markdown",
      "source": [
        "Answer Here."
      ],
      "metadata": {
        "id": "dcxuIMRPYuh3"
      }
    },
    {
      "cell_type": "markdown",
      "source": [
        "##### 2. What is/are the insight(s) found from the chart?"
      ],
      "metadata": {
        "id": "GwzvFGzlYuh3"
      }
    },
    {
      "cell_type": "markdown",
      "source": [
        "Answer Here"
      ],
      "metadata": {
        "id": "uyqkiB8YYuh3"
      }
    },
    {
      "cell_type": "markdown",
      "source": [
        "##### 3. Will the gained insights help creating a positive business impact?\n",
        "Are there any insights that lead to negative growth? Justify with specific reason."
      ],
      "metadata": {
        "id": "qYpmQ266Yuh3"
      }
    },
    {
      "cell_type": "markdown",
      "source": [
        "Answer Here"
      ],
      "metadata": {
        "id": "_WtzZ_hCYuh4"
      }
    },
    {
      "cell_type": "markdown",
      "source": [
        "#### Chart - 6"
      ],
      "metadata": {
        "id": "OH-pJp9IphqM"
      }
    },
    {
      "cell_type": "code",
      "source": [
        "# Chart - 6 visualization code"
      ],
      "metadata": {
        "id": "kuRf4wtuphqN"
      },
      "execution_count": null,
      "outputs": []
    },
    {
      "cell_type": "markdown",
      "source": [
        "##### 1. Why did you pick the specific chart?"
      ],
      "metadata": {
        "id": "bbFf2-_FphqN"
      }
    },
    {
      "cell_type": "markdown",
      "source": [
        "Answer Here."
      ],
      "metadata": {
        "id": "loh7H2nzphqN"
      }
    },
    {
      "cell_type": "markdown",
      "source": [
        "##### 2. What is/are the insight(s) found from the chart?"
      ],
      "metadata": {
        "id": "_ouA3fa0phqN"
      }
    },
    {
      "cell_type": "markdown",
      "source": [
        "Answer Here"
      ],
      "metadata": {
        "id": "VECbqPI7phqN"
      }
    },
    {
      "cell_type": "markdown",
      "source": [
        "##### 3. Will the gained insights help creating a positive business impact?\n",
        "Are there any insights that lead to negative growth? Justify with specific reason."
      ],
      "metadata": {
        "id": "Seke61FWphqN"
      }
    },
    {
      "cell_type": "markdown",
      "source": [
        "Answer Here"
      ],
      "metadata": {
        "id": "DW4_bGpfphqN"
      }
    },
    {
      "cell_type": "markdown",
      "source": [
        "#### Chart - 7"
      ],
      "metadata": {
        "id": "PIIx-8_IphqN"
      }
    },
    {
      "cell_type": "code",
      "source": [
        "# Chart - 7 visualization code"
      ],
      "metadata": {
        "id": "lqAIGUfyphqO"
      },
      "execution_count": null,
      "outputs": []
    },
    {
      "cell_type": "markdown",
      "source": [
        "##### 1. Why did you pick the specific chart?"
      ],
      "metadata": {
        "id": "t27r6nlMphqO"
      }
    },
    {
      "cell_type": "markdown",
      "source": [
        "Answer Here."
      ],
      "metadata": {
        "id": "iv6ro40sphqO"
      }
    },
    {
      "cell_type": "markdown",
      "source": [
        "##### 2. What is/are the insight(s) found from the chart?"
      ],
      "metadata": {
        "id": "r2jJGEOYphqO"
      }
    },
    {
      "cell_type": "markdown",
      "source": [
        "Answer Here"
      ],
      "metadata": {
        "id": "Po6ZPi4hphqO"
      }
    },
    {
      "cell_type": "markdown",
      "source": [
        "##### 3. Will the gained insights help creating a positive business impact?\n",
        "Are there any insights that lead to negative growth? Justify with specific reason."
      ],
      "metadata": {
        "id": "b0JNsNcRphqO"
      }
    },
    {
      "cell_type": "markdown",
      "source": [
        "Answer Here"
      ],
      "metadata": {
        "id": "xvSq8iUTphqO"
      }
    },
    {
      "cell_type": "markdown",
      "source": [
        "#### Chart - 8"
      ],
      "metadata": {
        "id": "BZR9WyysphqO"
      }
    },
    {
      "cell_type": "code",
      "source": [
        "# Chart - 8 visualization code"
      ],
      "metadata": {
        "id": "TdPTWpAVphqO"
      },
      "execution_count": null,
      "outputs": []
    },
    {
      "cell_type": "markdown",
      "source": [
        "##### 1. Why did you pick the specific chart?"
      ],
      "metadata": {
        "id": "jj7wYXLtphqO"
      }
    },
    {
      "cell_type": "markdown",
      "source": [
        "Answer Here."
      ],
      "metadata": {
        "id": "Ob8u6rCTphqO"
      }
    },
    {
      "cell_type": "markdown",
      "source": [
        "##### 2. What is/are the insight(s) found from the chart?"
      ],
      "metadata": {
        "id": "eZrbJ2SmphqO"
      }
    },
    {
      "cell_type": "markdown",
      "source": [
        "Answer Here"
      ],
      "metadata": {
        "id": "mZtgC_hjphqO"
      }
    },
    {
      "cell_type": "markdown",
      "source": [
        "##### 3. Will the gained insights help creating a positive business impact?\n",
        "Are there any insights that lead to negative growth? Justify with specific reason."
      ],
      "metadata": {
        "id": "rFu4xreNphqO"
      }
    },
    {
      "cell_type": "markdown",
      "source": [
        "Answer Here"
      ],
      "metadata": {
        "id": "ey_0qi68phqO"
      }
    },
    {
      "cell_type": "markdown",
      "source": [
        "#### Chart - 9"
      ],
      "metadata": {
        "id": "YJ55k-q6phqO"
      }
    },
    {
      "cell_type": "code",
      "source": [
        "# Chart - 9 visualization code"
      ],
      "metadata": {
        "id": "B2aS4O1ophqO"
      },
      "execution_count": null,
      "outputs": []
    },
    {
      "cell_type": "markdown",
      "source": [
        "##### 1. Why did you pick the specific chart?"
      ],
      "metadata": {
        "id": "gCFgpxoyphqP"
      }
    },
    {
      "cell_type": "markdown",
      "source": [
        "Answer Here."
      ],
      "metadata": {
        "id": "TVxDimi2phqP"
      }
    },
    {
      "cell_type": "markdown",
      "source": [
        "##### 2. What is/are the insight(s) found from the chart?"
      ],
      "metadata": {
        "id": "OVtJsKN_phqQ"
      }
    },
    {
      "cell_type": "markdown",
      "source": [
        "Answer Here"
      ],
      "metadata": {
        "id": "ngGi97qjphqQ"
      }
    },
    {
      "cell_type": "markdown",
      "source": [
        "##### 3. Will the gained insights help creating a positive business impact?\n",
        "Are there any insights that lead to negative growth? Justify with specific reason."
      ],
      "metadata": {
        "id": "lssrdh5qphqQ"
      }
    },
    {
      "cell_type": "markdown",
      "source": [
        "Answer Here"
      ],
      "metadata": {
        "id": "tBpY5ekJphqQ"
      }
    },
    {
      "cell_type": "markdown",
      "source": [
        "#### Chart - 10"
      ],
      "metadata": {
        "id": "U2RJ9gkRphqQ"
      }
    },
    {
      "cell_type": "code",
      "source": [
        "# Chart - 10 visualization code"
      ],
      "metadata": {
        "id": "GM7a4YP4phqQ"
      },
      "execution_count": null,
      "outputs": []
    },
    {
      "cell_type": "markdown",
      "source": [
        "##### 1. Why did you pick the specific chart?"
      ],
      "metadata": {
        "id": "1M8mcRywphqQ"
      }
    },
    {
      "cell_type": "markdown",
      "source": [
        "Answer Here."
      ],
      "metadata": {
        "id": "8agQvks0phqQ"
      }
    },
    {
      "cell_type": "markdown",
      "source": [
        "##### 2. What is/are the insight(s) found from the chart?"
      ],
      "metadata": {
        "id": "tgIPom80phqQ"
      }
    },
    {
      "cell_type": "markdown",
      "source": [
        "Answer Here"
      ],
      "metadata": {
        "id": "Qp13pnNzphqQ"
      }
    },
    {
      "cell_type": "markdown",
      "source": [
        "##### 3. Will the gained insights help creating a positive business impact?\n",
        "Are there any insights that lead to negative growth? Justify with specific reason."
      ],
      "metadata": {
        "id": "JMzcOPDDphqR"
      }
    },
    {
      "cell_type": "markdown",
      "source": [
        "Answer Here"
      ],
      "metadata": {
        "id": "R4Ka1PC2phqR"
      }
    },
    {
      "cell_type": "markdown",
      "source": [
        "#### Chart - 11"
      ],
      "metadata": {
        "id": "x-EpHcCOp1ci"
      }
    },
    {
      "cell_type": "code",
      "source": [
        "# Chart - 11 visualization code"
      ],
      "metadata": {
        "id": "mAQTIvtqp1cj"
      },
      "execution_count": null,
      "outputs": []
    },
    {
      "cell_type": "markdown",
      "source": [
        "##### 1. Why did you pick the specific chart?"
      ],
      "metadata": {
        "id": "X_VqEhTip1ck"
      }
    },
    {
      "cell_type": "markdown",
      "source": [
        "Answer Here."
      ],
      "metadata": {
        "id": "-vsMzt_np1ck"
      }
    },
    {
      "cell_type": "markdown",
      "source": [
        "##### 2. What is/are the insight(s) found from the chart?"
      ],
      "metadata": {
        "id": "8zGJKyg5p1ck"
      }
    },
    {
      "cell_type": "markdown",
      "source": [
        "Answer Here"
      ],
      "metadata": {
        "id": "ZYdMsrqVp1ck"
      }
    },
    {
      "cell_type": "markdown",
      "source": [
        "##### 3. Will the gained insights help creating a positive business impact?\n",
        "Are there any insights that lead to negative growth? Justify with specific reason."
      ],
      "metadata": {
        "id": "PVzmfK_Ep1ck"
      }
    },
    {
      "cell_type": "markdown",
      "source": [
        "Answer Here"
      ],
      "metadata": {
        "id": "druuKYZpp1ck"
      }
    },
    {
      "cell_type": "markdown",
      "source": [
        "#### Chart - 12"
      ],
      "metadata": {
        "id": "n3dbpmDWp1ck"
      }
    },
    {
      "cell_type": "code",
      "source": [
        "# Chart - 12 visualization code"
      ],
      "metadata": {
        "id": "bwevp1tKp1ck"
      },
      "execution_count": null,
      "outputs": []
    },
    {
      "cell_type": "markdown",
      "source": [
        "##### 1. Why did you pick the specific chart?"
      ],
      "metadata": {
        "id": "ylSl6qgtp1ck"
      }
    },
    {
      "cell_type": "markdown",
      "source": [
        "Answer Here."
      ],
      "metadata": {
        "id": "m2xqNkiQp1ck"
      }
    },
    {
      "cell_type": "markdown",
      "source": [
        "##### 2. What is/are the insight(s) found from the chart?"
      ],
      "metadata": {
        "id": "ZWILFDl5p1ck"
      }
    },
    {
      "cell_type": "markdown",
      "source": [
        "Answer Here"
      ],
      "metadata": {
        "id": "x-lUsV2mp1ck"
      }
    },
    {
      "cell_type": "markdown",
      "source": [
        "##### 3. Will the gained insights help creating a positive business impact?\n",
        "Are there any insights that lead to negative growth? Justify with specific reason."
      ],
      "metadata": {
        "id": "M7G43BXep1ck"
      }
    },
    {
      "cell_type": "markdown",
      "source": [
        "Answer Here"
      ],
      "metadata": {
        "id": "5wwDJXsLp1cl"
      }
    },
    {
      "cell_type": "markdown",
      "source": [
        "#### Chart - 13"
      ],
      "metadata": {
        "id": "Ag9LCva-p1cl"
      }
    },
    {
      "cell_type": "code",
      "source": [
        "# Chart - 13 visualization code"
      ],
      "metadata": {
        "id": "EUfxeq9-p1cl"
      },
      "execution_count": null,
      "outputs": []
    },
    {
      "cell_type": "markdown",
      "source": [
        "##### 1. Why did you pick the specific chart?"
      ],
      "metadata": {
        "id": "E6MkPsBcp1cl"
      }
    },
    {
      "cell_type": "markdown",
      "source": [
        "Answer Here."
      ],
      "metadata": {
        "id": "V22bRsFWp1cl"
      }
    },
    {
      "cell_type": "markdown",
      "source": [
        "##### 2. What is/are the insight(s) found from the chart?"
      ],
      "metadata": {
        "id": "2cELzS2fp1cl"
      }
    },
    {
      "cell_type": "markdown",
      "source": [
        "Answer Here"
      ],
      "metadata": {
        "id": "ozQPc2_Ip1cl"
      }
    },
    {
      "cell_type": "markdown",
      "source": [
        "##### 3. Will the gained insights help creating a positive business impact?\n",
        "Are there any insights that lead to negative growth? Justify with specific reason."
      ],
      "metadata": {
        "id": "3MPXvC8up1cl"
      }
    },
    {
      "cell_type": "markdown",
      "source": [
        "Answer Here"
      ],
      "metadata": {
        "id": "GL8l1tdLp1cl"
      }
    },
    {
      "cell_type": "markdown",
      "source": [
        "#### Chart - 14 - Correlation Heatmap"
      ],
      "metadata": {
        "id": "NC_X3p0fY2L0"
      }
    },
    {
      "cell_type": "code",
      "source": [
        "# Correlation Heatmap visualization code"
      ],
      "metadata": {
        "id": "xyC9zolEZNRQ"
      },
      "execution_count": null,
      "outputs": []
    },
    {
      "cell_type": "markdown",
      "source": [
        "##### 1. Why did you pick the specific chart?"
      ],
      "metadata": {
        "id": "UV0SzAkaZNRQ"
      }
    },
    {
      "cell_type": "markdown",
      "source": [
        "Answer Here."
      ],
      "metadata": {
        "id": "DVPuT8LYZNRQ"
      }
    },
    {
      "cell_type": "markdown",
      "source": [
        "##### 2. What is/are the insight(s) found from the chart?"
      ],
      "metadata": {
        "id": "YPEH6qLeZNRQ"
      }
    },
    {
      "cell_type": "markdown",
      "source": [
        "Answer Here"
      ],
      "metadata": {
        "id": "bfSqtnDqZNRR"
      }
    },
    {
      "cell_type": "markdown",
      "source": [
        "#### Chart - 15 - Pair Plot"
      ],
      "metadata": {
        "id": "q29F0dvdveiT"
      }
    },
    {
      "cell_type": "code",
      "source": [
        "# Pair Plot visualization code"
      ],
      "metadata": {
        "id": "o58-TEIhveiU"
      },
      "execution_count": null,
      "outputs": []
    },
    {
      "cell_type": "markdown",
      "source": [
        "##### 1. Why did you pick the specific chart?"
      ],
      "metadata": {
        "id": "EXh0U9oCveiU"
      }
    },
    {
      "cell_type": "markdown",
      "source": [
        "Answer Here."
      ],
      "metadata": {
        "id": "eMmPjTByveiU"
      }
    },
    {
      "cell_type": "markdown",
      "source": [
        "##### 2. What is/are the insight(s) found from the chart?"
      ],
      "metadata": {
        "id": "22aHeOlLveiV"
      }
    },
    {
      "cell_type": "markdown",
      "source": [
        "Answer Here"
      ],
      "metadata": {
        "id": "uPQ8RGwHveiV"
      }
    },
    {
      "cell_type": "markdown",
      "source": [
        "## **5. Solution to Business Objective**"
      ],
      "metadata": {
        "id": "JcMwzZxoAimU"
      }
    },
    {
      "cell_type": "markdown",
      "source": [
        "#### What do you suggest the client to achieve Business Objective ?\n",
        "Explain Briefly."
      ],
      "metadata": {
        "id": "8G2x9gOozGDZ"
      }
    },
    {
      "cell_type": "markdown",
      "source": [
        "Answer Here."
      ],
      "metadata": {
        "id": "pASKb0qOza21"
      }
    },
    {
      "cell_type": "markdown",
      "source": [
        "# **Conclusion**"
      ],
      "metadata": {
        "id": "gCX9965dhzqZ"
      }
    },
    {
      "cell_type": "markdown",
      "source": [
        "Write the conclusion here."
      ],
      "metadata": {
        "id": "Fjb1IsQkh3yE"
      }
    },
    {
      "cell_type": "markdown",
      "source": [
        "### ***Hurrah! You have successfully completed your EDA Capstone Project !!!***"
      ],
      "metadata": {
        "id": "gIfDvo9L0UH2"
      }
    }
  ]
}